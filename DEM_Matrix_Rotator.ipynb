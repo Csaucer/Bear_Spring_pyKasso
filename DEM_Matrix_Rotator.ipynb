{
 "cells": [
  {
   "cell_type": "markdown",
   "id": "313bf319",
   "metadata": {},
   "source": [
    "This notebook is designed to take a csv file full of DEM data and rotate it appropriately, as it seems that sometimes arcPy flips axes around in the wrong direction"
   ]
  },
  {
   "cell_type": "code",
   "execution_count": 1,
   "id": "5b82b653",
   "metadata": {},
   "outputs": [],
   "source": [
    "import numpy as np\n",
    "import pandas as pd"
   ]
  },
  {
   "cell_type": "code",
   "execution_count": 3,
   "id": "3cfeb87c",
   "metadata": {},
   "outputs": [],
   "source": [
    "unrotated = pd.read_csv(r\"C:\\Users\\csouc\\Bear_Spring_pyKasso\\inputs\\bear\\bear_inputs\\georastLARGE.csv\",header=None)\n",
    "#print(unrotated)\n",
    "tworot = np.rot90(unrotated, 2)\n",
    "#print(tworot)\n",
    "flipped = np.flip(tworot, axis=1)\n",
    "np.savetxt(r\"C:\\Users\\csouc\\Bear_Spring_pyKasso\\inputs\\bear\\bear_inputs\\flippedgeorastLARGE.csv\", flipped)"
   ]
  }
 ],
 "metadata": {
  "kernelspec": {
   "display_name": "Python 3 (ipykernel)",
   "language": "python",
   "name": "python3"
  },
  "language_info": {
   "codemirror_mode": {
    "name": "ipython",
    "version": 3
   },
   "file_extension": ".py",
   "mimetype": "text/x-python",
   "name": "python",
   "nbconvert_exporter": "python",
   "pygments_lexer": "ipython3",
   "version": "3.9.13"
  }
 },
 "nbformat": 4,
 "nbformat_minor": 5
}
