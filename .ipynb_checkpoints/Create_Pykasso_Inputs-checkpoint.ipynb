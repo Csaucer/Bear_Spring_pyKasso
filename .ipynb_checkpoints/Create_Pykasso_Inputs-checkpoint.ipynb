{
 "cells": [
  {
   "cell_type": "markdown",
   "id": "51ad4ede",
   "metadata": {},
   "source": [
    "# Create pyKasso Inputs from Field Data"
   ]
  },
  {
   "cell_type": "markdown",
   "id": "42f29f89",
   "metadata": {},
   "source": [
    "This notebook is designed to convert data collected at Bear Spring, likely in csv files, and convert them into .txt files that are usable in pyKasso"
   ]
  },
  {
   "cell_type": "code",
   "execution_count": 1,
   "id": "9002e863",
   "metadata": {},
   "outputs": [],
   "source": [
    "#import necessary packages\n",
    "import numpy as np\n",
    "import pandas as pd"
   ]
  },
  {
   "cell_type": "markdown",
   "id": "6674b0c8",
   "metadata": {},
   "source": [
    "Creating input files for the inlets, essentially the UTME and UTMN of sinkholes in the springshed"
   ]
  },
  {
   "cell_type": "code",
   "execution_count": 9,
   "id": "e7f0e24c",
   "metadata": {},
   "outputs": [
    {
     "name": "stdout",
     "output_type": "stream",
     "text": [
      "Names of columns:\n",
      "Index(['OBJECTID', 'MSSID', 'RELATEID', 'FEAT_LABEL', 'NAME', 'COUNTY_C',\n",
      "       'FEATURE', 'TOWNSHIP', 'RANGE', 'RANGE_DIR', 'SECTION', 'SUBSECTION',\n",
      "       'MGSQUAD_C', 'ELEVATION', 'ELEV_MC', 'DEPOSITTYPE', 'DEPTH2BDRK',\n",
      "       'FIRST_BDRK', 'FORM_TOP', 'FORM_BOT', 'FIELD_CHK_DATE', 'LOC_MC',\n",
      "       'LOC_SRC', 'LOC_DATE', 'GCM_CODE', 'GEOC_SRC', 'GEOC_DATE', 'GEOC_BY',\n",
      "       'UTME', 'UTMN', 'UTM_ACCURACY', 'UTM_ZONE', 'DATUM', 'FILE_SRC',\n",
      "       'DATASET', 'ENTRY_DATE', 'ENTRY_BY', 'UPDT_DATE', 'UPDT_BY', 'F1m_DEM'],\n",
      "      dtype='object')\n"
     ]
    }
   ],
   "source": [
    "#import the sinkhole coordinate data you want to convert to .txt using pandas\n",
    "CSV_sink = pd.read_csv(r\"C:\\Users\\csouc\\Desktop\\Bear Spring Data\\Sinkholes_In_Springshed.csv\")\n",
    "print('Names of columns:')\n",
    "print(CSV_sink.keys())\n"
   ]
  },
  {
   "cell_type": "code",
   "execution_count": 11,
   "id": "41c21301",
   "metadata": {},
   "outputs": [
    {
     "name": "stdout",
     "output_type": "stream",
     "text": [
      "[[ 557959 4869420]\n",
      " [ 558028 4869122]\n",
      " [ 558106 4869097]\n",
      " [ 557989 4869004]\n",
      " [ 558630 4868964]\n",
      " [ 558630 4868964]\n",
      " [ 558157 4868941]\n",
      " [ 558070 4868904]\n",
      " [ 560037 4868120]\n",
      " [ 558092 4868872]\n",
      " [ 558115 4868871]\n",
      " [ 558152 4868843]\n",
      " [ 557959 4868811]\n",
      " [ 558158 4868795]\n",
      " [ 557546 4868884]\n",
      " [ 557897 4868664]\n",
      " [ 558011 4868669]\n",
      " [ 558126 4868680]\n",
      " [ 558403 4868699]\n",
      " [ 557556 4868603]\n",
      " [ 557565 4868579]\n",
      " [ 557563 4868556]\n",
      " [ 557759 4868486]\n",
      " [ 557727 4868586]\n",
      " [ 557821 4868553]\n",
      " [ 558250 4868618]\n",
      " [ 558265 4868606]\n",
      " [ 558295 4868619]\n",
      " [ 558280 4868436]\n",
      " [ 558296 4868424]\n",
      " [ 558315 4868428]\n",
      " [ 559334 4868454]\n",
      " [ 559315 4868481]\n",
      " [ 559383 4868528]\n",
      " [ 559542 4868547]\n",
      " [ 559567 4868494]\n",
      " [ 559648 4868331]\n",
      " [ 559541 4868326]\n",
      " [ 560075 4868322]\n",
      " [ 558424 4868055]\n",
      " [ 559897 4868054]\n",
      " [ 559912 4868093]\n",
      " [ 560037 4868120]\n",
      " [ 560306 4868123]\n",
      " [ 560480 4868102]\n",
      " [ 560458 4868084]\n",
      " [ 560487 4868062]\n",
      " [ 560322 4868051]\n",
      " [ 558345 4867990]\n",
      " [ 558574 4867955]\n",
      " [ 559636 4868008]\n",
      " [ 559650 4867941]\n",
      " [ 558574 4867955]\n",
      " [ 559940 4867954]\n",
      " [ 558449 4867892]\n",
      " [ 558333 4867843]\n",
      " [ 558425 4867802]\n",
      " [ 558449 4867892]\n",
      " [ 558525 4867743]\n",
      " [ 558463 4867619]\n",
      " [ 559636 4868008]\n",
      " [ 558463 4867619]\n",
      " [ 558473 4867557]\n",
      " [ 558627 4867557]\n",
      " [ 558746 4867567]\n",
      " [ 558665 4867525]\n",
      " [ 558772 4867533]\n",
      " [ 558655 4867479]\n",
      " [ 558851 4867270]\n",
      " [ 558721 4867282]\n",
      " [ 558549 4867297]\n",
      " [ 558517 4867238]\n",
      " [ 558265 4867231]\n",
      " [ 558133 4867302]\n",
      " [ 558287 4867297]\n",
      " [ 558389 4867395]\n",
      " [ 558782 4867432]\n",
      " [ 557856 4867488]\n",
      " [ 558139 4867488]\n",
      " [ 558298 4867744]\n",
      " [ 558159 4867768]\n",
      " [ 558198 4867844]\n",
      " [ 557806 4868003]\n",
      " [ 557678 4868246]]\n"
     ]
    }
   ],
   "source": [
    "#Select the columns of data that you are interested in using in your .txt file table\n",
    "UTME = CSV_sink[\"UTME\"]\n",
    "UTMN = CSV_sink[\"UTMN\"]\n",
    "data = np.column_stack([UTME, UTMN])\n",
    "#print(data) #uncomment this to see the data printed out before export\n",
    "#export the sinkhole data to a txt file\n",
    "datafile_path = r\"C:\\Users\\csouc\\Bear_Spring_pyKasso\\inputs\\bear\\bear_inputs\\bear_springs_coords.txt\"\n",
    "np.savetxt(datafile_path, data, fmt=['%d', '%d'])"
   ]
  },
  {
   "cell_type": "markdown",
   "id": "f4a307b4",
   "metadata": {},
   "source": [
    "Creating input files for the outlets, essentially the UTME and UTMN of springs in the springshed"
   ]
  },
  {
   "cell_type": "code",
   "execution_count": 13,
   "id": "8d0f9384",
   "metadata": {
    "scrolled": true
   },
   "outputs": [
    {
     "name": "stdout",
     "output_type": "stream",
     "text": [
      "Names of columns:\n",
      "Index(['OBJECTID', 'MSSID', 'RELATEID', 'FEAT_LABEL', 'NAME', 'COUNTY_C',\n",
      "       'FEATURE', 'TOWNSHIP', 'RANGE', 'RANGE_DIR', 'SECTION', 'SUBSECTION',\n",
      "       'MGSQUAD_C', 'ELEVATION', 'ELEV_MC', 'DEPOSITTYPE', 'DEPTH2BDRK',\n",
      "       'FIRST_BDRK', 'FORM_TOP', 'FORM_BOT', 'FIELD_CHK_DATE', 'LOC_MC',\n",
      "       'LOC_SRC', 'LOC_DATE', 'GCM_CODE', 'GEOC_SRC', 'GEOC_DATE', 'GEOC_BY',\n",
      "       'UTME', 'UTMN', 'UTM_ACCURACY', 'UTM_ZONE', 'DATUM', 'FILE_SRC',\n",
      "       'DATASET', 'ENTRY_DATE', 'ENTRY_BY', 'UPDT_DATE', 'UPDT_BY', 'F1m_DEM'],\n",
      "      dtype='object')\n"
     ]
    }
   ],
   "source": [
    "#import the csv file for the spring locations\n",
    "CSV_spring = pd.read_csv(r\"C:\\Users\\csouc\\Bear_Spring\\Springs_In_Springshed.csv\")\n",
    "print('Names of columns:')\n",
    "print(CSV_spring.keys())"
   ]
  },
  {
   "cell_type": "code",
   "execution_count": 14,
   "id": "ae3d2c3f",
   "metadata": {},
   "outputs": [],
   "source": [
    "#Select the columns of data that you are interested in using in your .txt file table\n",
    "UTME = CSV_spring[\"UTME\"]\n",
    "UTMN = CSV_spring[\"UTMN\"]\n",
    "data = np.column_stack([UTME, UTMN])\n",
    "#print(data) #uncomment this to see the data printed out before export\n",
    "#export the sinkhole data to a txt file\n",
    "datafile_path = r\"C:\\Users\\csouc\\Bear_Spring_pyKasso\\inputs\\bear\\bear_inputs\\bear_springs_coords.txt\"\n",
    "np.savetxt(datafile_path, data, fmt=['%d', '%d'])"
   ]
  }
 ],
 "metadata": {
  "kernelspec": {
   "display_name": "Python 3 (ipykernel)",
   "language": "python",
   "name": "python3"
  },
  "language_info": {
   "codemirror_mode": {
    "name": "ipython",
    "version": 3
   },
   "file_extension": ".py",
   "mimetype": "text/x-python",
   "name": "python",
   "nbconvert_exporter": "python",
   "pygments_lexer": "ipython3",
   "version": "3.9.13"
  }
 },
 "nbformat": 4,
 "nbformat_minor": 5
}
