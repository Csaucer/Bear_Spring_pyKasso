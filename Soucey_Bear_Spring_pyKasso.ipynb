{
 "cells": [
  {
   "cell_type": "markdown",
   "id": "aa7c94b7",
   "metadata": {},
   "source": [
    "# This notebook comprises code used to numerically generate the conduit network system observed at Bear Spring based on inputs (sinkholes), outputs (springs), and topographical/geologic properties of the area\n"
   ]
  },
  {
   "cell_type": "markdown",
   "id": "84f04c36",
   "metadata": {},
   "source": [
    "Importing of necessary pacakges. Ensure that pyKasso, Karstnet are installed as a part of the same directory path"
   ]
  },
  {
   "cell_type": "code",
   "execution_count": 10,
   "id": "15cc724d",
   "metadata": {},
   "outputs": [],
   "source": [
    "#Load all packages needed for pyKasso, Skffm, karstnet, agd Remannian metric\n",
    "import sys\n",
    "import os\n",
    "import copy\n",
    "import numpy as np\n",
    "import matplotlib\n",
    "from matplotlib import pyplot as plt\n",
    "import pandas as pd\n",
    "import mplstereonet #Needed for karstnet\n",
    "import karstnet as kn #karst network statistisc\n",
    "import skfmm #fast marching algorithm, solves eikonal problems along boundary conditions\n",
    "import agd #adaptive grid discritization, discretizing anisotropic PDE on cartesian grid\n",
    "from agd import Eikonal\n",
    "from agd.Metrics import Riemann\n",
    "import yaml\n",
    "import importlib.util"
   ]
  },
  {
   "cell_type": "code",
   "execution_count": 5,
   "id": "4b87fdbf",
   "metadata": {},
   "outputs": [
    {
     "data": {
      "text/plain": [
       "'C:\\\\Users\\\\csouc\\\\Desktop\\\\Bear Spring Data\\\\Bear_Spring_Modeling'"
      ]
     },
     "execution_count": 5,
     "metadata": {},
     "output_type": "execute_result"
    }
   ],
   "source": [
    "#Import the pyKasso package for stochastic simulation of the bear spring karst system\n",
    "import pykasso as pk\n",
    "os.getcwd()"
   ]
  },
  {
   "cell_type": "markdown",
   "id": "16b980f5",
   "metadata": {},
   "source": [
    "Import catchment input data for a simple system, horizontal units of limestone in a springshed with a singular output."
   ]
  },
  {
   "cell_type": "code",
   "execution_count": 9,
   "id": "2cb2df50",
   "metadata": {},
   "outputs": [],
   "source": [
    "#create a directory called inputs\n",
    "pk.get_settings(example=False)\n",
    "\n"
   ]
  }
 ],
 "metadata": {
  "kernelspec": {
   "display_name": "Python 3 (ipykernel)",
   "language": "python",
   "name": "python3"
  },
  "language_info": {
   "codemirror_mode": {
    "name": "ipython",
    "version": 3
   },
   "file_extension": ".py",
   "mimetype": "text/x-python",
   "name": "python",
   "nbconvert_exporter": "python",
   "pygments_lexer": "ipython3",
   "version": "3.9.12"
  }
 },
 "nbformat": 4,
 "nbformat_minor": 5
}
